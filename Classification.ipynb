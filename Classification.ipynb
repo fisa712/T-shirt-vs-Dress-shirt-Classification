{
 "cells": [
  {
   "cell_type": "markdown",
   "id": "aware-questionnaire",
   "metadata": {},
   "source": [
    "# T-shirt vs Dress-shirt Classification\n"
   ]
  },
  {
   "cell_type": "code",
   "execution_count": 4,
   "id": "c8c7e8fd",
   "metadata": {},
   "outputs": [],
   "source": [
    "import pandas as pd\n",
    "import numpy as np\n",
    "import matplotlib.pyplot as plt"
   ]
  },
  {
   "cell_type": "code",
   "execution_count": 5,
   "id": "a03e5926",
   "metadata": {},
   "outputs": [],
   "source": [
    "from skimage.feature import hog\n",
    "from skimage import exposure\n",
    "from sklearn.svm import SVC"
   ]
  },
  {
   "cell_type": "markdown",
   "id": "cleared-console",
   "metadata": {},
   "source": [
    "# 1. Importing Data"
   ]
  },
  {
   "cell_type": "code",
   "execution_count": 6,
   "id": "5eec02e9",
   "metadata": {},
   "outputs": [],
   "source": [
    "Xtr=np.loadtxt(\"TrainData.csv\")\n",
    "Ytr=np.loadtxt(\"TrainLabels.csv\")\n",
    "Xts=np.loadtxt(\"TestData.csv\")"
   ]
  },
  {
   "cell_type": "code",
   "execution_count": 7,
   "id": "8ab218f8",
   "metadata": {},
   "outputs": [],
   "source": [
    "df = pd.DataFrame(Xtr,Ytr)\n",
    "FD=[]  \n",
    "HOG=[]\n",
    "xtr_len = len(Xtr)\n",
    "for i in range(0,xtr_len):\n",
    "    resizd_image = Xtr[i].reshape(28,28)\n",
    "    fd, HOG_image = hog(resizd_image, orientations=9, pixels_per_cell=(8, 8),  cells_per_block=(2, 2) , visualize=True)\n",
    "    FD.append(fd)\n",
    "    HOG.append(HOG_image)"
   ]
  },
  {
   "cell_type": "code",
   "execution_count": null,
   "id": "pressed-anthropology",
   "metadata": {},
   "outputs": [],
   "source": []
  },
  {
   "cell_type": "code",
   "execution_count": null,
   "id": "fitting-venue",
   "metadata": {},
   "outputs": [],
   "source": []
  },
  {
   "cell_type": "code",
   "execution_count": 8,
   "id": "laughing-recommendation",
   "metadata": {},
   "outputs": [
    {
     "data": {
      "text/html": [
       "<div>\n",
       "<style scoped>\n",
       "    .dataframe tbody tr th:only-of-type {\n",
       "        vertical-align: middle;\n",
       "    }\n",
       "\n",
       "    .dataframe tbody tr th {\n",
       "        vertical-align: top;\n",
       "    }\n",
       "\n",
       "    .dataframe thead th {\n",
       "        text-align: right;\n",
       "    }\n",
       "</style>\n",
       "<table border=\"1\" class=\"dataframe\">\n",
       "  <thead>\n",
       "    <tr style=\"text-align: right;\">\n",
       "      <th></th>\n",
       "      <th>0</th>\n",
       "      <th>1</th>\n",
       "      <th>2</th>\n",
       "      <th>3</th>\n",
       "      <th>4</th>\n",
       "      <th>5</th>\n",
       "      <th>6</th>\n",
       "      <th>7</th>\n",
       "      <th>8</th>\n",
       "      <th>9</th>\n",
       "      <th>...</th>\n",
       "      <th>776</th>\n",
       "      <th>777</th>\n",
       "      <th>778</th>\n",
       "      <th>779</th>\n",
       "      <th>780</th>\n",
       "      <th>781</th>\n",
       "      <th>782</th>\n",
       "      <th>783</th>\n",
       "      <th>FD</th>\n",
       "      <th>HOG</th>\n",
       "    </tr>\n",
       "  </thead>\n",
       "  <tbody>\n",
       "    <tr>\n",
       "      <th>-1.0</th>\n",
       "      <td>0.0</td>\n",
       "      <td>0.0</td>\n",
       "      <td>0.0</td>\n",
       "      <td>0.0</td>\n",
       "      <td>0.0</td>\n",
       "      <td>0.0</td>\n",
       "      <td>0.0</td>\n",
       "      <td>0.0</td>\n",
       "      <td>0.0</td>\n",
       "      <td>0.0</td>\n",
       "      <td>...</td>\n",
       "      <td>99.0</td>\n",
       "      <td>56.0</td>\n",
       "      <td>57.0</td>\n",
       "      <td>19.0</td>\n",
       "      <td>0.0</td>\n",
       "      <td>4.0</td>\n",
       "      <td>0.0</td>\n",
       "      <td>0.0</td>\n",
       "      <td>[0.2530798051089891, 0.2825351150792843, 0.330...</td>\n",
       "      <td>[[0.0, 0.0, 0.0, 0.0, 0.0, 0.0, 0.0, 0.0, 0.0,...</td>\n",
       "    </tr>\n",
       "    <tr>\n",
       "      <th>1.0</th>\n",
       "      <td>0.0</td>\n",
       "      <td>0.0</td>\n",
       "      <td>0.0</td>\n",
       "      <td>0.0</td>\n",
       "      <td>0.0</td>\n",
       "      <td>0.0</td>\n",
       "      <td>0.0</td>\n",
       "      <td>0.0</td>\n",
       "      <td>0.0</td>\n",
       "      <td>0.0</td>\n",
       "      <td>...</td>\n",
       "      <td>50.0</td>\n",
       "      <td>5.0</td>\n",
       "      <td>0.0</td>\n",
       "      <td>1.0</td>\n",
       "      <td>0.0</td>\n",
       "      <td>0.0</td>\n",
       "      <td>0.0</td>\n",
       "      <td>0.0</td>\n",
       "      <td>[0.2546673678325564, 0.2546673678325564, 0.246...</td>\n",
       "      <td>[[0.0, 0.0, 0.0, 0.0, 0.0, 0.0, 0.0, 0.0, 0.0,...</td>\n",
       "    </tr>\n",
       "    <tr>\n",
       "      <th>1.0</th>\n",
       "      <td>0.0</td>\n",
       "      <td>0.0</td>\n",
       "      <td>0.0</td>\n",
       "      <td>0.0</td>\n",
       "      <td>0.0</td>\n",
       "      <td>0.0</td>\n",
       "      <td>0.0</td>\n",
       "      <td>0.0</td>\n",
       "      <td>0.0</td>\n",
       "      <td>85.0</td>\n",
       "      <td>...</td>\n",
       "      <td>208.0</td>\n",
       "      <td>106.0</td>\n",
       "      <td>0.0</td>\n",
       "      <td>0.0</td>\n",
       "      <td>0.0</td>\n",
       "      <td>0.0</td>\n",
       "      <td>0.0</td>\n",
       "      <td>0.0</td>\n",
       "      <td>[0.2105924313367784, 0.1473637110322735, 0.0, ...</td>\n",
       "      <td>[[0.0, 0.0, 0.0, 0.0, 0.0, 0.0, 0.0, 0.0, 0.0,...</td>\n",
       "    </tr>\n",
       "    <tr>\n",
       "      <th>1.0</th>\n",
       "      <td>0.0</td>\n",
       "      <td>0.0</td>\n",
       "      <td>0.0</td>\n",
       "      <td>0.0</td>\n",
       "      <td>0.0</td>\n",
       "      <td>0.0</td>\n",
       "      <td>0.0</td>\n",
       "      <td>0.0</td>\n",
       "      <td>119.0</td>\n",
       "      <td>0.0</td>\n",
       "      <td>...</td>\n",
       "      <td>30.0</td>\n",
       "      <td>0.0</td>\n",
       "      <td>0.0</td>\n",
       "      <td>0.0</td>\n",
       "      <td>0.0</td>\n",
       "      <td>0.0</td>\n",
       "      <td>0.0</td>\n",
       "      <td>0.0</td>\n",
       "      <td>[0.2625259773951471, 0.0, 0.0, 0.0, 0.00204908...</td>\n",
       "      <td>[[0.0, 0.0, 0.0, 0.0, 0.0, 0.0, 0.0, 0.0, 0.0,...</td>\n",
       "    </tr>\n",
       "    <tr>\n",
       "      <th>1.0</th>\n",
       "      <td>0.0</td>\n",
       "      <td>0.0</td>\n",
       "      <td>0.0</td>\n",
       "      <td>0.0</td>\n",
       "      <td>0.0</td>\n",
       "      <td>0.0</td>\n",
       "      <td>1.0</td>\n",
       "      <td>0.0</td>\n",
       "      <td>0.0</td>\n",
       "      <td>0.0</td>\n",
       "      <td>...</td>\n",
       "      <td>0.0</td>\n",
       "      <td>0.0</td>\n",
       "      <td>0.0</td>\n",
       "      <td>0.0</td>\n",
       "      <td>0.0</td>\n",
       "      <td>0.0</td>\n",
       "      <td>0.0</td>\n",
       "      <td>0.0</td>\n",
       "      <td>[0.27877680362810336, 0.14051378526035135, 0.2...</td>\n",
       "      <td>[[0.0, 0.0, 0.0, 0.0, 0.0, 0.0, 0.0, 0.0, 0.0,...</td>\n",
       "    </tr>\n",
       "  </tbody>\n",
       "</table>\n",
       "<p>5 rows × 786 columns</p>\n",
       "</div>"
      ],
      "text/plain": [
       "        0    1    2    3    4    5    6    7      8     9  ...    776    777  \\\n",
       "-1.0  0.0  0.0  0.0  0.0  0.0  0.0  0.0  0.0    0.0   0.0  ...   99.0   56.0   \n",
       " 1.0  0.0  0.0  0.0  0.0  0.0  0.0  0.0  0.0    0.0   0.0  ...   50.0    5.0   \n",
       " 1.0  0.0  0.0  0.0  0.0  0.0  0.0  0.0  0.0    0.0  85.0  ...  208.0  106.0   \n",
       " 1.0  0.0  0.0  0.0  0.0  0.0  0.0  0.0  0.0  119.0   0.0  ...   30.0    0.0   \n",
       " 1.0  0.0  0.0  0.0  0.0  0.0  0.0  1.0  0.0    0.0   0.0  ...    0.0    0.0   \n",
       "\n",
       "       778   779  780  781  782  783  \\\n",
       "-1.0  57.0  19.0  0.0  4.0  0.0  0.0   \n",
       " 1.0   0.0   1.0  0.0  0.0  0.0  0.0   \n",
       " 1.0   0.0   0.0  0.0  0.0  0.0  0.0   \n",
       " 1.0   0.0   0.0  0.0  0.0  0.0  0.0   \n",
       " 1.0   0.0   0.0  0.0  0.0  0.0  0.0   \n",
       "\n",
       "                                                     FD  \\\n",
       "-1.0  [0.2530798051089891, 0.2825351150792843, 0.330...   \n",
       " 1.0  [0.2546673678325564, 0.2546673678325564, 0.246...   \n",
       " 1.0  [0.2105924313367784, 0.1473637110322735, 0.0, ...   \n",
       " 1.0  [0.2625259773951471, 0.0, 0.0, 0.0, 0.00204908...   \n",
       " 1.0  [0.27877680362810336, 0.14051378526035135, 0.2...   \n",
       "\n",
       "                                                    HOG  \n",
       "-1.0  [[0.0, 0.0, 0.0, 0.0, 0.0, 0.0, 0.0, 0.0, 0.0,...  \n",
       " 1.0  [[0.0, 0.0, 0.0, 0.0, 0.0, 0.0, 0.0, 0.0, 0.0,...  \n",
       " 1.0  [[0.0, 0.0, 0.0, 0.0, 0.0, 0.0, 0.0, 0.0, 0.0,...  \n",
       " 1.0  [[0.0, 0.0, 0.0, 0.0, 0.0, 0.0, 0.0, 0.0, 0.0,...  \n",
       " 1.0  [[0.0, 0.0, 0.0, 0.0, 0.0, 0.0, 0.0, 0.0, 0.0,...  \n",
       "\n",
       "[5 rows x 786 columns]"
      ]
     },
     "execution_count": 8,
     "metadata": {},
     "output_type": "execute_result"
    }
   ],
   "source": [
    "df['FD'] = FD\n",
    "df['HOG'] = HOG\n",
    "df.head(5)"
   ]
  },
  {
   "cell_type": "markdown",
   "id": "lonely-acceptance",
   "metadata": {},
   "source": [
    "# Creating CSV"
   ]
  },
  {
   "cell_type": "code",
   "execution_count": null,
   "id": "pursuant-vision",
   "metadata": {},
   "outputs": [],
   "source": []
  },
  {
   "cell_type": "markdown",
   "id": "special-testing",
   "metadata": {},
   "source": [
    "# Splitting Data"
   ]
  },
  {
   "cell_type": "code",
   "execution_count": 10,
   "id": "068cd3dd",
   "metadata": {},
   "outputs": [],
   "source": [
    "from sklearn.model_selection import train_test_split\n",
    "X_Train, X_Test, y_Train, y_Test = train_test_split(np.array(FD), Ytr, test_size=0.1, random_state=9)"
   ]
  },
  {
   "cell_type": "code",
   "execution_count": 11,
   "id": "5b60d641",
   "metadata": {},
   "outputs": [],
   "source": [
    "# X_Train"
   ]
  },
  {
   "cell_type": "code",
   "execution_count": 12,
   "id": "better-guard",
   "metadata": {},
   "outputs": [],
   "source": [
    "# X_Test"
   ]
  },
  {
   "cell_type": "code",
   "execution_count": 13,
   "id": "official-notebook",
   "metadata": {},
   "outputs": [],
   "source": [
    "# y_Train"
   ]
  },
  {
   "cell_type": "code",
   "execution_count": 14,
   "id": "plain-wiring",
   "metadata": {},
   "outputs": [],
   "source": [
    "# y_Test"
   ]
  },
  {
   "cell_type": "markdown",
   "id": "champion-polish",
   "metadata": {},
   "source": [
    "# DecisionTreeClassifier"
   ]
  },
  {
   "cell_type": "code",
   "execution_count": 15,
   "id": "f06d1eaf",
   "metadata": {},
   "outputs": [
    {
     "name": "stdout",
     "output_type": "stream",
     "text": [
      "\n"
     ]
    }
   ],
   "source": [
    "from sklearn.naive_bayes import GaussianNB #model = GaussianNB()-choice\n",
    "from sklearn.tree import DecisionTreeClassifier\n",
    "from sklearn import metrics\n",
    "model = DecisionTreeClassifier(criterion=\"entropy\", max_depth=3)\n",
    "model.fit(X_Train,y_Train)\n",
    "print()"
   ]
  },
  {
   "cell_type": "markdown",
   "id": "going-chart",
   "metadata": {},
   "source": [
    "# Accuracy scores"
   ]
  },
  {
   "cell_type": "code",
   "execution_count": 16,
   "id": "external-aluminum",
   "metadata": {},
   "outputs": [
    {
     "name": "stdout",
     "output_type": "stream",
     "text": [
      "Accuracy of model 1 is :0.7175 or 71.75 %\n"
     ]
    }
   ],
   "source": [
    "from sklearn.metrics import accuracy_score\n",
    "y_pred = model.predict(X_Test)\n",
    "accur = metrics.accuracy_score(y_Test, y_pred)\n",
    "print(\"Accuracy of model 1 is :\"+ str(accur) + \" or \" +str(accur * 100)+\" %\" )"
   ]
  },
  {
   "cell_type": "markdown",
   "id": "charitable-regression",
   "metadata": {},
   "source": [
    "# Creating CSV\n"
   ]
  },
  {
   "cell_type": "code",
   "execution_count": 17,
   "id": "straight-mongolia",
   "metadata": {},
   "outputs": [],
   "source": [
    "df_1 = pd.DataFrame()\n",
    "df_1['test1']=y_pred\n",
    "df_1.to_csv('data_1.csv')"
   ]
  },
  {
   "cell_type": "code",
   "execution_count": 18,
   "id": "cc5f0a65",
   "metadata": {},
   "outputs": [
    {
     "name": "stdout",
     "output_type": "stream",
     "text": [
      "Accuracy of model 2 is :0.775 or 77.5 %\n"
     ]
    }
   ],
   "source": [
    "\n",
    "from sklearn import svm , metrics\n",
    "model = svm.SVC(kernel='linear')\n",
    "model.fit(X_Train, y_Train)\n",
    "y_pred = model.predict(X_Test)\n",
    "acc = metrics.accuracy_score(y_Test, y_pred)\n",
    "print(\"Accuracy of model 2 is :\"+str(acc) + \" or \" +str(acc * 100)+\" %\")"
   ]
  },
  {
   "cell_type": "markdown",
   "id": "registered-leonard",
   "metadata": {},
   "source": [
    "# Creating CSV\n"
   ]
  },
  {
   "cell_type": "code",
   "execution_count": 19,
   "id": "responsible-genesis",
   "metadata": {},
   "outputs": [],
   "source": [
    "df_1['test2']=y_pred\n",
    "# df_1.to_csv('values1.csv')"
   ]
  },
  {
   "cell_type": "markdown",
   "id": "short-cardiff",
   "metadata": {},
   "source": [
    "# Image HOG Features"
   ]
  },
  {
   "cell_type": "code",
   "execution_count": 15,
   "id": "bdf266dd",
   "metadata": {},
   "outputs": [],
   "source": [
    "from skimage.io import imread, imshow\n",
    "image = imread('Image.jpeg')\n",
    "fd, hog_image = hog(image, orientations=9, pixels_per_cell=(8, 8), \n",
    "                    cells_per_block=(2, 2), visualize=True, )"
   ]
  },
  {
   "cell_type": "code",
   "execution_count": null,
   "id": "0954cfdd",
   "metadata": {
    "scrolled": true
   },
   "outputs": [],
   "source": [
    "fig, (ax1, ax2) = plt.subplots(1, 2, figsize=(10, 7), sharex=True, sharey=True) \n",
    "ax1.imshow(image) \n",
    "ax1.set_title('Input image')\n",
    "hog_image_rescaled = exposure.rescale_intensity(hog_image, in_range=(0, 10)) \n",
    "ax2.imshow(hog_image_rescaled, cmap=plt.cm.gray) \n",
    "ax2.set_title('Histogram of Oriented Gradients')\n",
    "plt.show()"
   ]
  },
  {
   "cell_type": "code",
   "execution_count": null,
   "id": "legendary-marine",
   "metadata": {},
   "outputs": [],
   "source": []
  },
  {
   "cell_type": "code",
   "execution_count": 17,
   "id": "447fc9e6",
   "metadata": {},
   "outputs": [
    {
     "data": {
      "text/plain": [
       "<matplotlib.image.AxesImage at 0x20de0cf79c8>"
      ]
     },
     "execution_count": 17,
     "metadata": {},
     "output_type": "execute_result"
    },
    {
     "data": {
      "image/png": "[encoded data removed]",
      "text/plain": [
       "<Figure size 432x288 with 1 Axes>"
      ]
     },
     "metadata": {
      "needs_background": "light"
     },
     "output_type": "display_data"
    }
   ],
   "source": [
    "image = Xtr[2653].reshape([28,28])\n",
    "plt.imshow(image)"
   ]
  },
  {
   "cell_type": "code",
   "execution_count": 18,
   "id": "f4877621",
   "metadata": {},
   "outputs": [
    {
     "data": {
      "image/png": "[encoded data removed]",
      "text/plain": [
       "<Figure size 720x360 with 2 Axes>"
      ]
     },
     "metadata": {
      "needs_background": "light"
     },
     "output_type": "display_data"
    }
   ],
   "source": [
    "resized_img = image.reshape(28,28)\n",
    "fd, hog_image = hog(resized_img, orientations=9, pixels_per_cell=(8, 8),   cells_per_block=(2, 2), visualize=True, )\n",
    "fig, (ax1, ax2) = plt.subplots(1, 2, figsize=(10, 5), sharex=True, sharey=True) \n",
    "\n",
    "ax1.imshow(resized_img, cmap=plt.cm.gray) \n",
    "ax1.set_title('Input image') \n",
    "hog_image_rescaled = exposure.rescale_intensity(hog_image, in_range=(0, 10)) \n",
    "ax2.imshow(hog_image_rescaled, cmap=plt.cm.gray) \n",
    "ax2.set_title('Histogram of Oriented Gradients')\n",
    "\n",
    "plt.show()"
   ]
  },
  {
   "cell_type": "code",
   "execution_count": null,
   "id": "ed5dae84",
   "metadata": {},
   "outputs": [],
   "source": []
  }
 ],
 "metadata": {
  "kernelspec": {
   "display_name": "Python 3 (ipykernel)",
   "language": "python",
   "name": "python3"
  },
  "language_info": {
   "codemirror_mode": {
    "name": "ipython",
    "version": 3
   },
   "file_extension": ".py",
   "mimetype": "text/x-python",
   "name": "python",
   "nbconvert_exporter": "python",
   "pygments_lexer": "ipython3",
   "version": "3.10.2"
  }
 },
 "nbformat": 4,
 "nbformat_minor": 5
}
